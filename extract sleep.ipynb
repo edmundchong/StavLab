{
 "cells": [
  {
   "cell_type": "code",
   "execution_count": 1,
   "metadata": {
    "collapsed": true
   },
   "outputs": [],
   "source": [
    "import scipy.io as sio\n",
    "import numpy as np\n",
    "import csv"
   ]
  },
  {
   "cell_type": "code",
   "execution_count": 2,
   "metadata": {
    "scrolled": true
   },
   "outputs": [
    {
     "name": "stderr",
     "output_type": "stream",
     "text": [
      "/usr/local/lib/python2.7/site-packages/numpy/core/arrayprint.py:637: RuntimeWarning: invalid value encountered in greater_equal\n",
      "  max_str_len = max(len(str(maximum.reduce(data))),\n",
      "IOPub data rate exceeded.\n",
      "The notebook server will temporarily stop sending output\n",
      "to the client in order to avoid crashing it.\n",
      "To change this limit, set the config variable\n",
      "`--NotebookApp.iopub_data_rate_limit`.\n"
     ]
    }
   ],
   "source": [
    "sio.loadmat('analysis.HYPNOS8v5.18-Oct-2017_red only.mat')"
   ]
  },
  {
   "cell_type": "code",
   "execution_count": 3,
   "metadata": {
    "collapsed": true
   },
   "outputs": [],
   "source": [
    "mat = sio.loadmat('analysis.HYPNOS8v5.18-Oct-2017_red only.mat')"
   ]
  },
  {
   "cell_type": "code",
   "execution_count": 4,
   "metadata": {
    "collapsed": true
   },
   "outputs": [],
   "source": [
    "genotypes_ordered=[]\n",
    "g_dict = {}\n",
    "for g,first,last in zip(mat['genotypes'],mat['LineIndicesFirst'],mat['LineIndicesLast']):\n",
    "    idx=range(first[0]-1,last[0])\n",
    "    g=str(g[0][0])\n",
    "    if g in g_dict:\n",
    "        g_dict[g]['idx']+=idx        \n",
    "    else:\n",
    "        g_dict[g]={'idx':idx}\n",
    "    if g not in genotypes_ordered:\n",
    "        genotypes_ordered.append(g)"
   ]
  },
  {
   "cell_type": "code",
   "execution_count": 8,
   "metadata": {},
   "outputs": [
    {
     "name": "stdout",
     "output_type": "stream",
     "text": [
      "<open file 'AvgSleepBoutLength.csv', mode 'w' at 0x10a45e540>\n",
      "<open file 'AvgSleepBoutsPerDay.csv', mode 'w' at 0x10a45e660>\n"
     ]
    }
   ],
   "source": [
    "measurement = ['AvgSleepBoutLength','AvgSleepBoutsPerDay']\n",
    "\n",
    "for m in measurement:\n",
    "    \n",
    "    for g in g_dict:\n",
    "        idx=g_dict[g]['idx']    \n",
    "        data=mat[m][0][idx]\n",
    "        data=data[np.nonzero(data)]\n",
    "        g_dict[g][m]=data\n",
    "        \n",
    "    #output to csv\n",
    "    with open(m+'.csv', 'w') as csvfile:\n",
    "        writer = csv.writer(csvfile, delimiter=\",\")\n",
    "\n",
    "        for g in genotypes_ordered:\n",
    "            datarow=[g]+list(g_dict[g][m])\n",
    "            writer.writerow(datarow)        "
   ]
  },
  {
   "cell_type": "code",
   "execution_count": null,
   "metadata": {
    "collapsed": true
   },
   "outputs": [],
   "source": []
  }
 ],
 "metadata": {
  "kernelspec": {
   "display_name": "Python 2",
   "language": "python",
   "name": "python2"
  },
  "language_info": {
   "codemirror_mode": {
    "name": "ipython",
    "version": 2
   },
   "file_extension": ".py",
   "mimetype": "text/x-python",
   "name": "python",
   "nbconvert_exporter": "python",
   "pygments_lexer": "ipython2",
   "version": "2.7.13"
  }
 },
 "nbformat": 4,
 "nbformat_minor": 2
}
