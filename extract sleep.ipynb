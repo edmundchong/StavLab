{
 "cells": [
  {
   "cell_type": "code",
   "execution_count": 1,
   "metadata": {
    "collapsed": true
   },
   "outputs": [],
   "source": [
    "import scipy.io as sio\n",
    "import numpy as np\n",
    "import csv"
   ]
  },
  {
   "cell_type": "code",
   "execution_count": 6,
   "metadata": {
    "collapsed": true
   },
   "outputs": [],
   "source": [
    "mat = sio.loadmat('data/analysis.HYPNOS8v5.18-Oct-2017_red only.mat')"
   ]
  },
  {
   "cell_type": "code",
   "execution_count": 7,
   "metadata": {
    "collapsed": true
   },
   "outputs": [],
   "source": [
    "genotypes_ordered=[]\n",
    "g_dict = {}\n",
    "for g,first,last in zip(mat['genotypes'],mat['LineIndicesFirst'],mat['LineIndicesLast']):\n",
    "    idx=range(first[0]-1,last[0])\n",
    "    g=str(g[0][0])\n",
    "    if g in g_dict:\n",
    "        g_dict[g]['idx']+=idx        \n",
    "    else:\n",
    "        g_dict[g]={'idx':idx}\n",
    "    if g not in genotypes_ordered:\n",
    "        genotypes_ordered.append(g)"
   ]
  },
  {
   "cell_type": "code",
   "execution_count": 9,
   "metadata": {},
   "outputs": [],
   "source": [
    "measurement = ['AvgSleepBoutLength','AvgSleepBoutsPerDay']\n",
    "\n",
    "for m in measurement:\n",
    "    \n",
    "    for g in g_dict:\n",
    "        idx=g_dict[g]['idx']    \n",
    "        data=mat[m][0][idx]\n",
    "        data=data[np.nonzero(data)]\n",
    "        g_dict[g][m]=data\n",
    "        \n",
    "    #output to csv\n",
    "    with open('outputs/'+m+'.csv', 'w') as csvfile:\n",
    "        writer = csv.writer(csvfile, delimiter=\",\")\n",
    "\n",
    "        for g in genotypes_ordered:\n",
    "            datarow=[g]+list(g_dict[g][m])\n",
    "            writer.writerow(datarow)        "
   ]
  }
 ],
 "metadata": {
  "kernelspec": {
   "display_name": "Python 2",
   "language": "python",
   "name": "python2"
  },
  "language_info": {
   "codemirror_mode": {
    "name": "ipython",
    "version": 2
   },
   "file_extension": ".py",
   "mimetype": "text/x-python",
   "name": "python",
   "nbconvert_exporter": "python",
   "pygments_lexer": "ipython2",
   "version": "2.7.13"
  }
 },
 "nbformat": 4,
 "nbformat_minor": 2
}
